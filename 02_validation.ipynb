{
 "cells": [
  {
   "cell_type": "markdown",
   "metadata": {},
   "source": [
    "# Finding bigfoot (partie 2)"
   ]
  },
  {
   "cell_type": "code",
   "execution_count": null,
   "metadata": {},
   "outputs": [],
   "source": [
    "team_name = \"qwertyuio\""
   ]
  },
  {
   "cell_type": "code",
   "execution_count": null,
   "metadata": {},
   "outputs": [],
   "source": [
    "import Pkg; Pkg.activate(pwd())\n",
    "_code_path = joinpath(dirname(Base.active_project()), \"code\")\n",
    "modules = [\"pkg\", \"palettes\", \"confusionmatrix\", \"mocks\", \"crossvalidation\", \"pipelines\", \"nbc\", \"variableselection\", \"bootstrap\"]\n",
    "for m in modules\n",
    "    include(joinpath(_code_path, \"$(m).jl\"))\n",
    "end"
   ]
  },
  {
   "cell_type": "code",
   "execution_count": null,
   "metadata": {},
   "outputs": [],
   "source": [
    "JLD2.jldopen(\"training.jld2\", \"r\") do file\n",
    "    global X = file[\"X\"]\n",
    "    global y = file[\"y\"]\n",
    "end;\n",
    "presences = findall(y);\n",
    "absences = findall(.!y);"
   ]
  },
  {
   "cell_type": "markdown",
   "metadata": {},
   "source": [
    "## Définition du modèle"
   ]
  },
  {
   "cell_type": "code",
   "execution_count": null,
   "metadata": {},
   "outputs": [],
   "source": [
    "model = SDM(RawData(), NBC(), Thresholder())"
   ]
  },
  {
   "cell_type": "markdown",
   "metadata": {},
   "source": [
    "Bagging"
   ]
  },
  {
   "cell_type": "code",
   "execution_count": null,
   "metadata": {},
   "outputs": [],
   "source": [
    "bags = bootstrap(y, X; n=10)\n",
    "ensemble = Bagging(model, bags)\n",
    "train!(ensemble, y, X; classify=true)"
   ]
  },
  {
   "cell_type": "markdown",
   "metadata": {},
   "source": [
    "First map with the ensemble using all variables"
   ]
  },
  {
   "cell_type": "code",
   "execution_count": null,
   "metadata": {},
   "outputs": [],
   "source": [
    "predictors = [SpeciesDistributionToolkit._read_geotiff(\"layers.tiff\", SimpleSDMPredictor; bandnumber=v) for v in 1:19]\n",
    "prediction = similar(predictors[1])\n",
    "uncertainty = similar(predictors[1])\n",
    "Threads.@threads for k in keys(prediction)\n",
    "    input = [predictor[k] for predictor in predictors]\n",
    "    prediction[k] = predict(ensemble, input; classify=false, consensus=median)\n",
    "    uncertainty[k] = predict(ensemble, input; classify=false, consensus=std)\n",
    "end"
   ]
  },
  {
   "cell_type": "markdown",
   "metadata": {},
   "source": [
    "Visualisation du modèle"
   ]
  },
  {
   "cell_type": "markdown",
   "metadata": {},
   "source": [
    "Validation croisée"
   ]
  },
  {
   "cell_type": "code",
   "execution_count": null,
   "metadata": {},
   "outputs": [],
   "source": [
    "splits = kfold(y, X; k=10)"
   ]
  }
 ],
 "metadata": {
  "kernelspec": {
   "display_name": "Julia 1.9.3",
   "language": "julia",
   "name": "julia-1.9"
  },
  "language_info": {
   "file_extension": ".jl",
   "mimetype": "application/julia",
   "name": "julia",
   "version": "1.9.3"
  },
  "orig_nbformat": 4
 },
 "nbformat": 4,
 "nbformat_minor": 2
}
