{
 "cells": [
  {
   "cell_type": "markdown",
   "id": "7a421700-21d9-404f-981e-dd3a5336e20d",
   "metadata": {},
   "source": [
    "# Finding bigfoot (partie 2)"
   ]
  },
  {
   "cell_type": "markdown",
   "id": "583225ae",
   "metadata": {},
   "source": [
    "Ce bloc de code charge toutes les dépendances du projet. Ne le modifiez pas!"
   ]
  },
  {
   "cell_type": "code",
   "execution_count": null,
   "id": "24bbb31b-0385-47b6-8267-bb9269279d0a",
   "metadata": {},
   "outputs": [],
   "source": [
    "import Pkg; Pkg.activate(pwd())\n",
    "_code_path = joinpath(dirname(Base.active_project()), \"code\")\n",
    "modules = [\"pkg\", \"palettes\", \"confusionmatrix\", \"mocks\", \"crossvalidation\", \"pipelines\", \"nbc\", \"variableselection\", \"transformations\", \"bootstrap\", \"show\"]\n",
    "for m in modules\n",
    "    include(joinpath(_code_path, \"$(m).jl\"))\n",
    "end"
   ]
  },
  {
   "cell_type": "markdown",
   "id": "211f36d1",
   "metadata": {},
   "source": [
    "## Chargement des données"
   ]
  },
  {
   "cell_type": "markdown",
   "id": "900df3c0",
   "metadata": {},
   "source": [
    "On charge maintenant les données d'entraînement du modèle:"
   ]
  },
  {
   "cell_type": "code",
   "execution_count": null,
   "id": "6a1857fb",
   "metadata": {},
   "outputs": [],
   "source": [
    "JLD2.jldopen(\"training.jld2\", \"r\") do file\n",
    "    global X = file[\"X\"]\n",
    "    global y = file[\"y\"]\n",
    "end;\n",
    "presences = findall(y);\n",
    "absences = findall(.!y);"
   ]
  },
  {
   "cell_type": "markdown",
   "id": "52180913",
   "metadata": {},
   "source": [
    "On peut \"entraîner\" un classificateur *no-skill* et *coin flip* pour évaluer leur performance:"
   ]
  },
  {
   "cell_type": "code",
   "execution_count": null,
   "id": "259cf7c9",
   "metadata": {},
   "outputs": [],
   "source": [
    "Cnoskill = noskill(y)\n",
    "Ccoinflip = coinflip(y)"
   ]
  },
  {
   "cell_type": "markdown",
   "id": "5a2bd28f",
   "metadata": {},
   "source": [
    "Quelle est la performance attendue du classificateur *no-skill*? On peut utiliser différentes fonctiones: `mcc`, `ppv`, `npv`, `trueskill`, `tpr`, `fpr`, `tnr`, `fnr`, `accuracy`, *etc.*. Expérimentez avec la matrice `Cnoskill` et `Ccoinflip` en adaptant le code ci-dessous (et gardez une trace de vos résultats!):"
   ]
  },
  {
   "cell_type": "code",
   "execution_count": null,
   "id": "c3692880",
   "metadata": {},
   "outputs": [],
   "source": [
    "mcc(Cnoskill)"
   ]
  },
  {
   "cell_type": "markdown",
   "id": "5b3a1288",
   "metadata": {},
   "source": [
    "La valeur de MCC pour *no skill* est proche de zéro -- est-ce que c'est le résultat attendu?"
   ]
  },
  {
   "cell_type": "markdown",
   "id": "3030bd3f",
   "metadata": {},
   "source": [
    "## Stratégie de validation croisée"
   ]
  },
  {
   "cell_type": "markdown",
   "id": "c3db341d",
   "metadata": {},
   "source": [
    "Vous devrez choisir une méthode de validation croisée. Toutes les méthodes utilisent la même interface (vous n'aurez pas besoin de modifier votre code selon la méthode utilisée, mais ne changez pas le nom de la variable `splits`), mais vous devrez expérimenter avec plusieurs méthodes pour obtenir la meilleure évaluation de la performance du modèle:"
   ]
  },
  {
   "cell_type": "code",
   "execution_count": null,
   "id": "f2622e5c",
   "metadata": {},
   "outputs": [],
   "source": [
    "splits = kfold(y, X; k=20); # k-folds, k est le nombre de folds\n",
    "#splits = montecarlo(y, X; n=50, proportion=0.1); # Monte-Carlo, n est le nombre de sous-ensembles, et on peut choisir la proportion des données de validation\n",
    "#splits = [holdout(y, X; proportion=0.2)]; # Un seul holdout"
   ]
  },
  {
   "cell_type": "markdown",
   "id": "5058119f",
   "metadata": {},
   "source": [
    "## Entraînement d'un modèle avec deux variables"
   ]
  },
  {
   "cell_type": "markdown",
   "id": "ea29939f",
   "metadata": {},
   "source": [
    "Dans le cadre de ce projet, un modèle se compose d'une transformation (aucune par défaut), d'un classificateur (nous allons utiliser NBC), et d'un seuil:"
   ]
  },
  {
   "cell_type": "code",
   "execution_count": null,
   "id": "a8565644",
   "metadata": {},
   "outputs": [],
   "source": [
    "# Transformations possibles:\n",
    "# - ZScore\n",
    "# - RawData\n",
    "# - MultivariateTransform{Whitening}\n",
    "# - MultivariateTransform{PCA}\n",
    "model = SDM(RawData(), NBC(), Thresholder())"
   ]
  },
  {
   "cell_type": "markdown",
   "id": "22a01ec0",
   "metadata": {},
   "source": [
    "Nous allons utiliser deux variables: température et précipitation."
   ]
  },
  {
   "cell_type": "code",
   "execution_count": null,
   "id": "89e699f0",
   "metadata": {},
   "outputs": [],
   "source": [
    "variables = [1,12]"
   ]
  },
  {
   "cell_type": "markdown",
   "id": "7cdd7b8b",
   "metadata": {},
   "source": [
    "Au début, les paramètres du modèle ne sont pas initialisés. On va devoir effectuer une étape d'entraînement:"
   ]
  },
  {
   "cell_type": "code",
   "execution_count": null,
   "id": "c8d93664",
   "metadata": {},
   "outputs": [],
   "source": [
    "train!(model, y, X[variables,:])"
   ]
  },
  {
   "cell_type": "markdown",
   "id": "a6d0cd7a",
   "metadata": {},
   "source": [
    "Remarquez que par défaut, le modèle va optimiser le seuil. On peut vérifier le seuil avec `model.threshold.cutoff` -- le seuil est automatiquement choisi pour maximiser le MCC."
   ]
  },
  {
   "cell_type": "markdown",
   "id": "ba385982",
   "metadata": {},
   "source": [
    "Dans la pratique, au lieu d'entraîner notre modèle avec toutes les données, on veut effectuer une validation croissée pour mieux comprendre sa performance. La fonction `crossvalidate` renvoie une série de matrices de confusion, pour les données de validation et pour les données d'entraînement:"
   ]
  },
  {
   "cell_type": "code",
   "execution_count": null,
   "id": "4f95764c",
   "metadata": {},
   "outputs": [],
   "source": [
    "Cv, Ct = crossvalidate(model, y, X[variables,:], splits; classify=true)"
   ]
  },
  {
   "cell_type": "markdown",
   "id": "2aa1f619",
   "metadata": {},
   "source": [
    "On peut visualiser le résultat de la validation croisée. Nous allons représenter les résultats de chaque split, en montrant à la fois les données d'entraînement (gris) et de validation (orange), pour vérifier que la performance sur les deux jeux de données est comparable."
   ]
  },
  {
   "cell_type": "code",
   "execution_count": null,
   "id": "ab751a5c",
   "metadata": {},
   "outputs": [],
   "source": [
    "fig = Figure()\n",
    "ax_roc = Axis(fig[1,1]; aspect=DataAspect())\n",
    "ax_pr = Axis(fig[1,2]; aspect=DataAspect())\n",
    "\n",
    "scatter!(ax_roc, fpr.(Cv), tpr.(Cv); color=vibrant[2])\n",
    "scatter!(ax_roc, fpr.(Ct), tpr.(Ct); color=vibrant[1])\n",
    "\n",
    "scatter!(ax_pr, tpr.(Cv), ppv.(Cv); color=vibrant[2])\n",
    "scatter!(ax_pr, tpr.(Ct), ppv.(Ct); color=vibrant[1])\n",
    "\n",
    "for ax in [ax_roc, ax_pr]\n",
    "    xlims!(ax, 0., 1.)\n",
    "    ylims!(ax, 0., 1.)\n",
    "end\n",
    "\n",
    "current_figure()"
   ]
  },
  {
   "cell_type": "markdown",
   "id": "1d4c7d3a",
   "metadata": {},
   "source": [
    "On peut maintenant rapporter le MCC moyen de notre modèle:"
   ]
  },
  {
   "cell_type": "code",
   "execution_count": null,
   "id": "20206c21",
   "metadata": {},
   "outputs": [],
   "source": [
    "mean(mcc.(Cv))"
   ]
  },
  {
   "cell_type": "markdown",
   "id": "0fd198e4",
   "metadata": {},
   "source": [
    "Prenez du temps pour décrire le comportement du modèle, en utilisant par exemple PPV et NPV -- gardez une note de vos résultats."
   ]
  },
  {
   "cell_type": "markdown",
   "id": "2020ef4c",
   "metadata": {},
   "source": [
    "## Sélection des variables"
   ]
  },
  {
   "cell_type": "markdown",
   "id": "f7192873",
   "metadata": {},
   "source": [
    "Dans cette section, nous allons examiner la sélection des variables. Notez que la sélection des variables fait aussi la validation croisée!"
   ]
  },
  {
   "cell_type": "code",
   "execution_count": null,
   "id": "8fbd6841",
   "metadata": {},
   "outputs": [],
   "source": [
    "#variables = [1,12] # Sélection manuelle\n",
    "variables = constrainedselection(model, y, X, splits, variables, mcc; classify=true)\n",
    "#variables = forwardselection(model, y, X, splits, mcc; classify=true)\n",
    "#variables = backwardselection(model, y, X, splits, mcc; classify=true)"
   ]
  },
  {
   "cell_type": "markdown",
   "id": "ea4144fb",
   "metadata": {},
   "source": [
    "On peut maintenant faire la validation croisée du modèle avec les meilleures variables. Adaptez le code des exemples précédents pour mesurer la performance du modèle:"
   ]
  },
  {
   "cell_type": "code",
   "execution_count": null,
   "id": "b036ac3b",
   "metadata": {},
   "outputs": [],
   "source": [
    "Cv, Ct = crossvalidate(model, y, X[variables,:], splits; classify=true)"
   ]
  },
  {
   "cell_type": "markdown",
   "id": "80ff2e94",
   "metadata": {},
   "source": [
    "## Entraînement du modèle avec les variables finales"
   ]
  },
  {
   "cell_type": "code",
   "execution_count": null,
   "id": "1aaef1a6",
   "metadata": {},
   "outputs": [],
   "source": [
    "train!(model, y, X[variables,:])"
   ]
  },
  {
   "cell_type": "markdown",
   "id": "015b5fc4",
   "metadata": {},
   "source": [
    "## Prédictions avec le modèle"
   ]
  },
  {
   "cell_type": "code",
   "execution_count": null,
   "id": "e1ecb1a1",
   "metadata": {},
   "outputs": [],
   "source": [
    "predictors = [SpeciesDistributionToolkit._read_geotiff(\"layers.tiff\", SimpleSDMPredictor; bandnumber=v) for v in variables]"
   ]
  },
  {
   "cell_type": "markdown",
   "id": "efe36a52",
   "metadata": {},
   "source": [
    "Prédiction du modèle:"
   ]
  },
  {
   "cell_type": "code",
   "execution_count": null,
   "id": "c1716754",
   "metadata": {},
   "outputs": [],
   "source": [
    "prediction = similar(predictors[1])\n",
    "Threads.@threads for k in keys(prediction)\n",
    "    input = [predictor[k] for predictor in predictors]\n",
    "    prediction[k] = predict(model, input; classify=false)\n",
    "end"
   ]
  },
  {
   "cell_type": "markdown",
   "id": "75f1c4ba",
   "metadata": {},
   "source": [
    "Données des observations (source: *trust me, bro*):"
   ]
  },
  {
   "cell_type": "code",
   "execution_count": null,
   "id": "2e949bcb",
   "metadata": {},
   "outputs": [],
   "source": [
    "sightings = map(x -> tuple(reverse(parse.(Float64, x))...), split.(readlines(\"occurrences.csv\"), ','))\n",
    "filter!(r -> 25 <= r[2] <= 55, sightings);\n",
    "filter!(r -> -130 <= r[1] <= -70, sightings);"
   ]
  },
  {
   "cell_type": "markdown",
   "id": "0efea4ac",
   "metadata": {},
   "source": [
    "Visualisation des prédictions du modèle, projection EPSG 9822:"
   ]
  },
  {
   "cell_type": "code",
   "execution_count": null,
   "id": "d2c7b672",
   "metadata": {},
   "outputs": [],
   "source": [
    "fig = Figure()\n",
    "ax = GeoMakie.GeoAxis(fig[1,1]; dest = \"+proj=aea +lat_1=0.0 +lat_2=55.0\", coastlines=true, lonlims=extrema(longitudes(prediction)), latlims=extrema(latitudes(prediction)))\n",
    "surface!(ax, prediction, colormap=reverse(cgrad(iridescent)); shading=false)\n",
    "scatter!(ax, sightings, color=:orange, markersize=3)\n",
    "hidedecorations!(ax)\n",
    "hidespines!(ax)\n",
    "current_figure()"
   ]
  },
  {
   "cell_type": "markdown",
   "id": "0cf82522",
   "metadata": {},
   "source": [
    "Visualisation de l'aire de distribution projetée (*uniquement pour la couverture spatiale des données*):"
   ]
  },
  {
   "cell_type": "code",
   "execution_count": null,
   "id": "a4ecd0c5",
   "metadata": {},
   "outputs": [],
   "source": [
    "fig = Figure()\n",
    "ax = GeoMakie.GeoAxis(fig[1,1]; dest = \"+proj=aea +lat_1=0.0 +lat_2=55.0\", coastlines=true, lonlims=extrema(longitudes(prediction)), latlims=extrema(latitudes(prediction)))\n",
    "surface!(ax, replace(prediction .>= model.threshold.cutoff, false => nothing), colormap=[light[2]]); shading=false\n",
    "scatter!(ax, sightings, color=:orange, markersize=3)\n",
    "hidedecorations!(ax)\n",
    "hidespines!(ax)\n",
    "current_figure()"
   ]
  },
  {
   "cell_type": "markdown",
   "id": "d274ace6",
   "metadata": {},
   "source": [
    "## Bagging"
   ]
  },
  {
   "cell_type": "markdown",
   "id": "3c681403",
   "metadata": {},
   "source": [
    "Création d'un modèle d'ensemble *homogène* avec 25 sous-échantillons des données, tirés avec remise:"
   ]
  },
  {
   "cell_type": "code",
   "execution_count": null,
   "id": "99c596a3",
   "metadata": {},
   "outputs": [],
   "source": [
    "bags = bootstrap(y, X; n=25)\n",
    "ensemble = Bagging(model, bags)\n",
    "train!(ensemble, y, X[variables,:])"
   ]
  },
  {
   "cell_type": "markdown",
   "id": "9238289a",
   "metadata": {},
   "source": [
    "On va mesurer l'incertitude avec l'écart interquartile, *i.e.* la différence entre les quartiles 25% et 75%:"
   ]
  },
  {
   "cell_type": "code",
   "execution_count": null,
   "id": "e09307d8",
   "metadata": {},
   "outputs": [],
   "source": [
    "function iqr(x)\n",
    "    if all(isnan.(x))\n",
    "        return 0.0\n",
    "    else\n",
    "        return first(diff(quantile(filter(!isnan, x), [0.25, 0.75])))\n",
    "    end\n",
    "end"
   ]
  },
  {
   "cell_type": "markdown",
   "id": "704a7fd0",
   "metadata": {},
   "source": [
    "Prédiction de l'incertitude dans le modèle d'ensemble:"
   ]
  },
  {
   "cell_type": "code",
   "execution_count": null,
   "id": "f5569b89",
   "metadata": {},
   "outputs": [],
   "source": [
    "uncertainty = similar(predictors[1])\n",
    "Threads.@threads for k in keys(prediction)\n",
    "    input = [predictor[k] for predictor in predictors]\n",
    "    uncertainty[k] = predict(ensemble, input; consensus=iqr, classify=false)\n",
    "end"
   ]
  },
  {
   "cell_type": "code",
   "execution_count": null,
   "id": "b3afa4cb",
   "metadata": {},
   "outputs": [],
   "source": [
    "fig = Figure()\n",
    "ax = GeoMakie.GeoAxis(fig[1,1]; dest = \"+proj=aea +lat_1=0.0 +lat_2=55.0\", coastlines=true, lonlims=extrema(longitudes(prediction)), latlims=extrema(latitudes(prediction)))\n",
    "surface!(ax, uncertainty; colormap=cgrad(incandescent), shading=false)\n",
    "hidedecorations!(ax)\n",
    "hidespines!(ax)\n",
    "current_figure()"
   ]
  },
  {
   "cell_type": "markdown",
   "id": "cb783c48",
   "metadata": {},
   "source": [
    "On peut mesurer l'erreur *out of bag*:"
   ]
  },
  {
   "cell_type": "code",
   "execution_count": null,
   "id": "d0948486",
   "metadata": {},
   "outputs": [],
   "source": [
    "C = outofbag(ensemble, y, X[variables,:], bags; classify=true)\n",
    "accuracy(C)"
   ]
  },
  {
   "cell_type": "markdown",
   "id": "749c9ac9",
   "metadata": {},
   "source": [
    "Vérification de l'accord entre les modèles de l'ensemble:"
   ]
  },
  {
   "cell_type": "code",
   "execution_count": null,
   "id": "c9ea814c",
   "metadata": {},
   "outputs": [],
   "source": [
    "agreement = zeros(ConfusionMatrix, (length(bags), length(bags)))\n",
    "\n",
    "for i in eachindex(bags), j in eachindex(bags)\n",
    "    if j >= i\n",
    "        agreement[i,j] = ConfusionMatrix(\n",
    "            predict(ensemble.models[i], X[variables,:]),\n",
    "            convert(Vector{Bool}, predict(ensemble.models[j], X[variables,:]))\n",
    "        )\n",
    "        agreement[j,i] = agreement[i,j]\n",
    "    end\n",
    "end"
   ]
  },
  {
   "cell_type": "code",
   "execution_count": null,
   "id": "813a961e",
   "metadata": {},
   "outputs": [],
   "source": [
    "κ.(agreement)"
   ]
  },
  {
   "cell_type": "code",
   "execution_count": null,
   "id": "33a2e18c",
   "metadata": {},
   "outputs": [],
   "source": [
    "heatmap(κ.(agreement), colormap=:Greys)"
   ]
  }
 ],
 "metadata": {
  "kernelspec": {
   "display_name": "Julia 1.9.3",
   "language": "julia",
   "name": "julia-1.9"
  },
  "language_info": {
   "file_extension": ".jl",
   "mimetype": "application/julia",
   "name": "julia",
   "version": "1.9.3"
  }
 },
 "nbformat": 4,
 "nbformat_minor": 5
}
