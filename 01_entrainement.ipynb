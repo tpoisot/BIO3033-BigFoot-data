{
 "cells": [
  {
   "cell_type": "markdown",
   "id": "7a421700-21d9-404f-981e-dd3a5336e20d",
   "metadata": {},
   "source": [
    "# Finding bigfoot "
   ]
  },
  {
   "cell_type": "code",
   "execution_count": null,
   "id": "24bbb31b-0385-47b6-8267-bb9269279d0a",
   "metadata": {},
   "outputs": [],
   "source": [
    "import Pkg; Pkg.activate(pwd())\n",
    "_code_path = joinpath(dirname(Base.active_project()), \"code\")\n",
    "modules = [\"pkg\", ]\n",
    "for m in modules\n",
    "    include(joinpath(_code_path, \"$(m).jl\"))\n",
    "end"
   ]
  },
  {
   "cell_type": "markdown",
   "id": "03e22aa7",
   "metadata": {},
   "source": [
    "Le nom de l'équipe sera utilisé pour enregistrer votre modèle."
   ]
  },
  {
   "cell_type": "code",
   "execution_count": null,
   "id": "2b3ebb3e",
   "metadata": {},
   "outputs": [],
   "source": [
    "team_name = \"NOM_DE_L_ÉQUIPE\""
   ]
  }
 ],
 "metadata": {
  "kernelspec": {
   "display_name": "Julia 1.9.3",
   "language": "julia",
   "name": "julia-1.9"
  },
  "language_info": {
   "file_extension": ".jl",
   "mimetype": "application/julia",
   "name": "julia",
   "version": "1.9.3"
  }
 },
 "nbformat": 4,
 "nbformat_minor": 5
}
